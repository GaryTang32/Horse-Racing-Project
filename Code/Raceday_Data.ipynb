{
 "cells": [
  {
   "cell_type": "code",
   "execution_count": 75,
   "id": "40d750c4",
   "metadata": {},
   "outputs": [],
   "source": [
    "import pandas as pd\n",
    "from bs4 import BeautifulSoup\n",
    "import requests\n",
    "import datetime\n",
    "import io\n",
    "\n",
    "pd.options.display.max_colwidth = 1000000000\n",
    "\n",
    "my_headers = {\"User-Agent\":\"Mozilla/5.0 (Windows NT 10.0; Win64; x64) AppleWebKit/537.36 (KHTML, like Gecko) Chrome/95.0.4638.54 Safari/537.36\",\n",
    "              \"Accept\":\"text/html,application/xhtml+xml,application/xml; q=0.9,image/webp,image/apng,*/*;q=0.8\",\n",
    "              \"Accept-Language\":\"en-US,en;q=0.9,en-GB;q=0.8\", \"Content-Language\":\"en-US,en;q=0.9,en-GB;q=0.8\"}"
   ]
  },
  {
   "cell_type": "markdown",
   "id": "0e07bcde",
   "metadata": {},
   "source": [
    "### RaceInfo:"
   ]
  },
  {
   "cell_type": "code",
   "execution_count": 76,
   "id": "77bb8409",
   "metadata": {},
   "outputs": [
    {
     "name": "stderr",
     "output_type": "stream",
     "text": [
      "<ipython-input-76-e2904d9f59f7>:13: DeprecationWarning: find_element_by_* commands are deprecated. Please use find_element() instead\n",
      "  raceInfoTab = driver.find_element_by_class_name(\"margin_top10\")\n"
     ]
    }
   ],
   "source": [
    "from selenium import webdriver\n",
    "from bs4 import BeautifulSoup\n",
    "import pandas as pd\n",
    "import numpy as np\n",
    "\n",
    "# set up driver (check for copatable chrome version: https://chromedriver.chromium.org/downloads):\n",
    "driver = webdriver.Chrome()\n",
    "driver.implicitly_wait(30)\n",
    "\n",
    "driver.get('https://racing.hkjc.com/racing/information/English/racing/RaceCard.aspx')\n",
    "#driver.get('https://racing.hkjc.com/racing/information/English/racing/RaceCard.aspx?RaceDate=2021/12/18&Racecourse=ST&RaceNo=10')\n",
    "\n",
    "raceInfoTab = driver.find_element_by_class_name(\"margin_top10\")\n",
    "#raceInfoTabHTML = infoTab.get_attribute('outerHTML')\n",
    "#raceInfo_soup = BeautifulSoup(raceInfoTabHTML, 'lxml')\n",
    "#bn_raceInfo = bn_soup.find_all('div',{'class':'f_fs13'})[1].contents"
   ]
  },
  {
   "cell_type": "markdown",
   "id": "3ec034bc",
   "metadata": {},
   "source": [
    "Race info ideally need:\n",
    "- Date\n",
    "- Course\n",
    "- Meeting Number (race number today eg.1-10 @ Sha Tin)\n",
    "- Class\n",
    "- Distance\n",
    "- Rating (aka Ranking)\n",
    "- Race_Type\n",
    "- Surface\n",
    "- Prize (in HKD)\n",
    "- Runners (Count Horses)\n",
    "- Going"
   ]
  },
  {
   "cell_type": "code",
   "execution_count": 77,
   "id": "e0777fd9",
   "metadata": {},
   "outputs": [],
   "source": [
    "raceInfoTabHTML = raceInfoTab.get_attribute('outerHTML')\n",
    "raceInfo_soup = BeautifulSoup(raceInfoTabHTML, 'lxml')"
   ]
  },
  {
   "cell_type": "code",
   "execution_count": 78,
   "id": "510ae3a4",
   "metadata": {},
   "outputs": [
    {
     "name": "stdout",
     "output_type": "stream",
     "text": [
      "Race 10 - LUKFOOK JEWELLERY F-STYLE HEY COOL COLLECTION HANDICAP Saturday, December 18, 2021, Sha Tin, 17:45 Turf, \"C+3\" Course, 1600M, Good Prize Money: $1,570,000, Rating: 80-60, Class 3 Raceday Focus\n"
     ]
    }
   ],
   "source": [
    "bn_raceInfo = raceInfo_soup.find('div',{'class':'f_fs13'})\n",
    "bn_raceInfo1 = raceInfo_soup.find('span',{'class':'font_wb'})\n",
    "bn_raceInfo2 = raceInfo_soup.find('span',{'class':'br/'})\n",
    "bn_raceInfo3 = raceInfo_soup.find_all('span',{'class':'font_wb'})[0].contents\n",
    "\n",
    "bn_raceInfo3 = raceInfo_soup.get_text(strip=True, separator= \" \")\n",
    "#print(raceInfo_soup.get_text(strip=True, separator=\" \"))\n",
    "\n",
    "print(bn_raceInfo3)"
   ]
  },
  {
   "cell_type": "code",
   "execution_count": 79,
   "id": "67aaf7d1",
   "metadata": {},
   "outputs": [
    {
     "name": "stdout",
     "output_type": "stream",
     "text": [
      "['Race 10', 'LUKFOOK JEWELLERY F-STYLE HEY COOL COLLECTION HANDICAP Saturday', 'December 18', '2021', 'Sha Tin', '17:45 Turf \"C+3\" Course', '1600M', 'Good Prize Money: $1,570,000', 'Rating: 80-60', 'Class 3 Raceday Focus']\n"
     ]
    }
   ],
   "source": [
    "#bn_raceInfo4 = bn_raceInfo3.split(\",\")\n",
    "bn_raceInfo4 = bn_raceInfo3.replace(' - ', ', ').replace('Turf,', 'Turf').split(', ')\n",
    "#bn_raceInfo4 = bn_raceInfo3.split(', ')\n",
    "\n",
    "print(bn_raceInfo4)"
   ]
  },
  {
   "cell_type": "code",
   "execution_count": 80,
   "id": "6608dc08",
   "metadata": {},
   "outputs": [
    {
     "data": {
      "text/html": [
       "<div>\n",
       "<style scoped>\n",
       "    .dataframe tbody tr th:only-of-type {\n",
       "        vertical-align: middle;\n",
       "    }\n",
       "\n",
       "    .dataframe tbody tr th {\n",
       "        vertical-align: top;\n",
       "    }\n",
       "\n",
       "    .dataframe thead th {\n",
       "        text-align: right;\n",
       "    }\n",
       "</style>\n",
       "<table border=\"1\" class=\"dataframe\">\n",
       "  <thead>\n",
       "    <tr style=\"text-align: right;\">\n",
       "      <th></th>\n",
       "      <th>Meeting_Number</th>\n",
       "      <th>Race_Type</th>\n",
       "      <th>Course</th>\n",
       "      <th>Distance</th>\n",
       "      <th>Prize</th>\n",
       "      <th>Ranking</th>\n",
       "      <th>Class</th>\n",
       "      <th>Date</th>\n",
       "      <th>Surface</th>\n",
       "    </tr>\n",
       "  </thead>\n",
       "  <tbody>\n",
       "    <tr>\n",
       "      <th>0</th>\n",
       "      <td>10</td>\n",
       "      <td>LUKFOOK JEWELLERY F-STYLE HEY COOL COLLECTION HANDICAP</td>\n",
       "      <td>Sha Tin</td>\n",
       "      <td>1600</td>\n",
       "      <td>1570000</td>\n",
       "      <td>80-60</td>\n",
       "      <td>Class 3</td>\n",
       "      <td>12/18/2021</td>\n",
       "      <td>TURF C+3 COURSE</td>\n",
       "    </tr>\n",
       "  </tbody>\n",
       "</table>\n",
       "</div>"
      ],
      "text/plain": [
       "  Meeting_Number                                               Race_Type  \\\n",
       "0             10  LUKFOOK JEWELLERY F-STYLE HEY COOL COLLECTION HANDICAP   \n",
       "\n",
       "    Course Distance    Prize Ranking    Class        Date          Surface  \n",
       "0  Sha Tin     1600  1570000   80-60  Class 3  12/18/2021  TURF C+3 COURSE  "
      ]
     },
     "execution_count": 80,
     "metadata": {},
     "output_type": "execute_result"
    }
   ],
   "source": [
    "bn_raceInfo5 = pd.DataFrame({'col': bn_raceInfo4}).transpose()\n",
    "bn_raceInfo5[\"Date\"] = (bn_raceInfo5[2] + ' ' + bn_raceInfo5[3]) # Race date string\n",
    "bn_raceInfo5[\"Date\"] =  pd.to_datetime(bn_raceInfo5[\"Date\"], format = '%B %d %Y').dt.strftime('%m/%d/%Y') # Race date string to date & format\n",
    "#bn_raceInfo5[\"Date\"] = bn_raceInfo5[\"Date\"].dt.strftime('%m/%d/%Y') # Race date format\n",
    "bn_raceInfo5[0] = bn_raceInfo5[0].str.lstrip('Race ') # Meeting_Number\n",
    "bn_raceInfo5[1] = bn_raceInfo5[1].str.rsplit(' ', n=1).str.get(0) # Race Type\n",
    "bn_raceInfo5[6] = bn_raceInfo5[6].str.rstrip('M') # Distance\n",
    "bn_raceInfo5[9] = bn_raceInfo5[9].str.rstrip(' Raceday Focus') # Class\n",
    "bn_raceInfo5[8] = bn_raceInfo5[8].str.lstrip('Rating: ') # Ranking\n",
    "bn_raceInfo5[7] = bn_raceInfo5[7].str.lstrip('Good Prize Money: $').str.replace(r',', '') # Prize\n",
    "bn_raceInfo5[\"Surface\"] = bn_raceInfo5[5].str.split(' ', 1).str.get(1).str.replace(r'\"', '').str.upper() # Surface\n",
    "\n",
    "bn_raceInfo5 = bn_raceInfo5.drop(bn_raceInfo5.columns[[2,3,5]], axis=1) # drop uneeded columns\n",
    "bn_raceInfo5 = bn_raceInfo5.rename(columns={0:'Meeting_Number',1:'Race_Type',4:'Course',\n",
    "                                           6:'Distance',7:'Prize',8:'Ranking',9:'Class'}) # rename final columns\n",
    "raceInfo = bn_raceInfo5.reset_index(drop=True)\n",
    "\n",
    "raceInfo.head()"
   ]
  },
  {
   "cell_type": "markdown",
   "id": "e735f170",
   "metadata": {},
   "source": [
    "### RaceCard:"
   ]
  },
  {
   "cell_type": "raw",
   "id": "bd4e69fc",
   "metadata": {},
   "source": [
    "from selenium import webdriver\n",
    "import pandas as pd\n",
    "import numpy as np\n",
    "\n",
    "# set up driver (check for copatable chrome version: https://chromedriver.chromium.org/downloads):\n",
    "driver = webdriver.Chrome()\n",
    "driver.implicitly_wait(30)\n",
    "\n",
    "driver.get('https://racing.hkjc.com/racing/information/English/racing/RaceCard.aspx')\n",
    "#driver.get('https://racing.hkjc.com/racing/information/English/racing/RaceCard.aspx?RaceDate=2021/12/18&Racecourse=ST&RaceNo=10')\n",
    "\n",
    "# # Select the table with its ID value:\n",
    "# tab = driver.find_element_by_id(\"racecardlist\")\n",
    "# # From that element, we get the HTML instead of the web driver element object:\n",
    "# tab_html=tab.get_attribute('outerHTML')\n",
    "# # Parse the HTML with pandas:\n",
    "# tab_dfs=pd.read_html(tab_html)\n",
    "# # Index into that list with the only table we have, at index 1 since there is a table header:\n",
    "# df=tab_dfs[1]\n",
    "\n",
    "# Combine above steps:\n",
    "raceCard = pd.read_html(driver.find_element_by_id(\"racecardlist\").get_attribute('outerHTML'))[1]"
   ]
  },
  {
   "cell_type": "code",
   "execution_count": 81,
   "id": "cf8c8625",
   "metadata": {},
   "outputs": [
    {
     "name": "stderr",
     "output_type": "stream",
     "text": [
      "<ipython-input-81-444b7c7ed60d>:1: DeprecationWarning: find_element_by_* commands are deprecated. Please use find_element() instead\n",
      "  raceCard = pd.read_html(driver.find_element_by_id(\"racecardlist\").get_attribute('outerHTML'))[1]\n"
     ]
    }
   ],
   "source": [
    "raceCard = pd.read_html(driver.find_element_by_id(\"racecardlist\").get_attribute('outerHTML'))[1]"
   ]
  },
  {
   "cell_type": "code",
   "execution_count": 82,
   "id": "185b6aa5",
   "metadata": {},
   "outputs": [
    {
     "data": {
      "text/html": [
       "<div>\n",
       "<style scoped>\n",
       "    .dataframe tbody tr th:only-of-type {\n",
       "        vertical-align: middle;\n",
       "    }\n",
       "\n",
       "    .dataframe tbody tr th {\n",
       "        vertical-align: top;\n",
       "    }\n",
       "\n",
       "    .dataframe thead th {\n",
       "        text-align: right;\n",
       "    }\n",
       "</style>\n",
       "<table border=\"1\" class=\"dataframe\">\n",
       "  <thead>\n",
       "    <tr style=\"text-align: right;\">\n",
       "      <th></th>\n",
       "      <th>Horse</th>\n",
       "      <th>Weight</th>\n",
       "      <th>Jockey</th>\n",
       "      <th>Draw</th>\n",
       "      <th>Trainer</th>\n",
       "      <th>Rtg.</th>\n",
       "      <th>Weight_Declared</th>\n",
       "    </tr>\n",
       "  </thead>\n",
       "  <tbody>\n",
       "    <tr>\n",
       "      <th>0</th>\n",
       "      <td>LOOKING GREAT</td>\n",
       "      <td>133</td>\n",
       "      <td>K C Leung</td>\n",
       "      <td>13</td>\n",
       "      <td>F C Lor</td>\n",
       "      <td>80</td>\n",
       "      <td>1065</td>\n",
       "    </tr>\n",
       "    <tr>\n",
       "      <th>1</th>\n",
       "      <td>CAPTAIN WIN</td>\n",
       "      <td>130</td>\n",
       "      <td>C L Chau</td>\n",
       "      <td>14</td>\n",
       "      <td>D J Hall</td>\n",
       "      <td>77</td>\n",
       "      <td>1229</td>\n",
       "    </tr>\n",
       "    <tr>\n",
       "      <th>2</th>\n",
       "      <td>CRAIG'S STAR</td>\n",
       "      <td>126</td>\n",
       "      <td>H Bentley</td>\n",
       "      <td>6</td>\n",
       "      <td>K H Ting</td>\n",
       "      <td>73</td>\n",
       "      <td>1260</td>\n",
       "    </tr>\n",
       "    <tr>\n",
       "      <th>3</th>\n",
       "      <td>SUPER TEN</td>\n",
       "      <td>126</td>\n",
       "      <td>A Badel</td>\n",
       "      <td>10</td>\n",
       "      <td>D J Whyte</td>\n",
       "      <td>73</td>\n",
       "      <td>1233</td>\n",
       "    </tr>\n",
       "    <tr>\n",
       "      <th>4</th>\n",
       "      <td>INTREPID WINNER</td>\n",
       "      <td>125</td>\n",
       "      <td>A Hamelin</td>\n",
       "      <td>8</td>\n",
       "      <td>A T Millard</td>\n",
       "      <td>72</td>\n",
       "      <td>1054</td>\n",
       "    </tr>\n",
       "  </tbody>\n",
       "</table>\n",
       "</div>"
      ],
      "text/plain": [
       "             Horse  Weight     Jockey  Draw      Trainer  Rtg.  \\\n",
       "0    LOOKING GREAT     133  K C Leung    13      F C Lor    80   \n",
       "1      CAPTAIN WIN     130   C L Chau    14     D J Hall    77   \n",
       "2     CRAIG'S STAR     126  H Bentley     6     K H Ting    73   \n",
       "3        SUPER TEN     126    A Badel    10    D J Whyte    73   \n",
       "4  INTREPID WINNER     125  A Hamelin     8  A T Millard    72   \n",
       "\n",
       "   Weight_Declared  \n",
       "0             1065  \n",
       "1             1229  \n",
       "2             1260  \n",
       "3             1233  \n",
       "4             1054  "
      ]
     },
     "execution_count": 82,
     "metadata": {},
     "output_type": "execute_result"
    }
   ],
   "source": [
    "columns_to_drop = (['Horse No.', 'Last 6 Runs', 'Colour', 'Rtg.+/-','Priority','Gear'])\n",
    "\n",
    "raceCard['Jockey'] = raceCard['Jockey'].str.split('(').str[0]\n",
    "raceCard['Trainer'] = raceCard['Trainer'].str.split('(').str[0]\n",
    "raceCard.drop(columns_to_drop, axis=1, inplace=True)\n",
    "raceCard = raceCard.rename({'Wt.': 'Weight', 'Horse Wt. (Declaration)': 'Weight_Declared'}, axis=1)\n",
    "\n",
    "# rename\n",
    "# Wt. = 'Weight'\n",
    "# Horse Wt. (Declaration) = 'Weight_Declared'\n",
    "\n",
    "\n",
    "#df.raceCard()\n",
    "\n",
    "#raceCard['Weight'] = raceCard.['Horse Wt. (Declaration)'].combine_first(raceCard.['Wt.'])\n",
    "\n",
    "#raceCard['Weight'] = np.where(raceCard[\"Horse Wt. (Declaration)\"].isnull(), raceCard[\"Wt.\"], raceCard[\"Horse Wt. (Declaration)\"] )\n",
    "\n",
    "raceCard.head()"
   ]
  },
  {
   "cell_type": "markdown",
   "id": "dccece3f",
   "metadata": {},
   "source": [
    "### RaceDay Weather Info:"
   ]
  },
  {
   "cell_type": "markdown",
   "id": "3d91078c",
   "metadata": {},
   "source": [
    "Weather:\n",
    "- Min Temp.\n",
    "- Max Temp.\n",
    "- Humidity"
   ]
  },
  {
   "cell_type": "code",
   "execution_count": 83,
   "id": "3fcb1d27",
   "metadata": {},
   "outputs": [
    {
     "name": "stdout",
     "output_type": "stream",
     "text": [
      "Saturday\n",
      "ShaTin\n",
      "https://www.google.com/search?q=weather+ShaTin\n"
     ]
    }
   ],
   "source": [
    "# Day of Race:\n",
    "Date_of_race = pd.to_datetime(bn_raceInfo5[\"Date\"], format = '%m/%d/%Y').dt.strftime('%d %b').iloc[0] + ' '\n",
    "Day_of_race = pd.to_datetime(bn_raceInfo5[\"Date\"], format = '%m/%d/%Y').dt.strftime('%A').iloc[0]\n",
    "location = (bn_raceInfo5[\"Course\"].str.replace(r' ', '')).iloc[0]\n",
    "\n",
    "print(Day_of_race)\n",
    "print(location)\n",
    "\n",
    "user_agent = \"Mozilla/5.0 (Windows NT 10.0; Win64; x64) AppleWebKit/537.36 (KHTML, like Gecko) Chrome/94.0.4606.81 Safari/537.36\"\n",
    "language = \"en-US,en;q=0.9,en-GB;q=0.8\"\n",
    "\n",
    "weather_url = \"https://www.google.com/search?q=weather+\"+location\n",
    "print(weather_url)"
   ]
  },
  {
   "cell_type": "code",
   "execution_count": 84,
   "id": "ce101af3",
   "metadata": {},
   "outputs": [],
   "source": [
    "def get_weather_data(weather_url):\n",
    "    session = requests.Session()\n",
    "    session.headers['User-Agent'] = user_agent\n",
    "    session.headers['Accept-Language'] = language\n",
    "    session.headers['Content-Language'] = language\n",
    "    html = session.get(weather_url)\n",
    "    # create a new soup\n",
    "    soup = BeautifulSoup(html.text, \"html.parser\")\n",
    "    # store all results on this dictionary\n",
    "    result = {}\n",
    "    # extract region\n",
    "    result['region'] = soup.find(\"div\", attrs={\"id\": \"wob_loc\"}).text\n",
    "    # extract temperature now\n",
    "    result['temp_now'] = soup.find(\"span\", attrs={\"id\": \"wob_tm\"}).text\n",
    "    # get the day and hour now\n",
    "    result['dayhour'] = soup.find(\"div\", attrs={\"id\": \"wob_dts\"}).text\n",
    "    # get the actual weather\n",
    "    result['weather_now'] = soup.find(\"span\", attrs={\"id\": \"wob_dc\"}).text\n",
    "    # get the precipitation\n",
    "    result['precipitation'] = soup.find(\"span\", attrs={\"id\": \"wob_pp\"}).text\n",
    "    # get the % of humidity\n",
    "    result['humidity'] = soup.find(\"span\", attrs={\"id\": \"wob_hm\"}).text\n",
    "    # extract the wind\n",
    "    result['wind'] = soup.find(\"span\", attrs={\"id\": \"wob_ws\"}).text\n",
    "    # get next few days' weather\n",
    "    next_days = []\n",
    "    days = soup.find(\"div\", attrs={\"id\": \"wob_dp\"})\n",
    "    for day in days.findAll(\"div\", attrs={\"class\": \"wob_df\"}):\n",
    "        # extract the name of the day\n",
    "        day_name = day.findAll(\"div\")[0].attrs['aria-label']\n",
    "        # get weather status for that day\n",
    "        weather = day.find(\"img\").attrs[\"alt\"]\n",
    "        temp = day.findAll(\"span\", {\"class\": \"wob_t\"})\n",
    "        # maximum temparature in Celsius, use temp[1].text if you want fahrenheit\n",
    "        max_temp = temp[0].text\n",
    "        # minimum temparature in Celsius, use temp[3].text if you want fahrenheit\n",
    "        min_temp = temp[2].text\n",
    "        next_days.append({\"name\": day_name, \"weather\": weather, \"max_temp\": max_temp, \"min_temp\": min_temp})\n",
    "    # append to result\n",
    "    result['next_days'] = next_days\n",
    "    return result"
   ]
  },
  {
   "cell_type": "code",
   "execution_count": 85,
   "id": "cc820ff9",
   "metadata": {},
   "outputs": [
    {
     "name": "stdout",
     "output_type": "stream",
     "text": [
      "Saturday:\n",
      "Max temperature: 21°C\n",
      "Min temperature: 14°C\n"
     ]
    }
   ],
   "source": [
    "if __name__ == \"__main__\":\n",
    "    URL = weather_url\n",
    "    # get data\n",
    "    data = get_weather_data(URL)\n",
    "    # print data\n",
    "    for dayweather in data[\"next_days\"]:\n",
    "        #print(\"=\"*40, dayweather[\"name\"], \"=\"*40)\n",
    "        print(dayweather[\"name\"]+\":\")\n",
    "        #print(\"Description:\", dayweather[\"weather\"])\n",
    "        print(f\"Max temperature: {dayweather['max_temp']}°C\")\n",
    "        print(f\"Min temperature: {dayweather['min_temp']}°C\")\n",
    "        if dayweather[\"name\"] == Day_of_race:\n",
    "            break"
   ]
  },
  {
   "cell_type": "code",
   "execution_count": 86,
   "id": "5749ca5c",
   "metadata": {},
   "outputs": [
    {
     "data": {
      "text/html": [
       "<div>\n",
       "<style scoped>\n",
       "    .dataframe tbody tr th:only-of-type {\n",
       "        vertical-align: middle;\n",
       "    }\n",
       "\n",
       "    .dataframe tbody tr th {\n",
       "        vertical-align: top;\n",
       "    }\n",
       "\n",
       "    .dataframe thead th {\n",
       "        text-align: right;\n",
       "    }\n",
       "</style>\n",
       "<table border=\"1\" class=\"dataframe\">\n",
       "  <thead>\n",
       "    <tr style=\"text-align: right;\">\n",
       "      <th></th>\n",
       "      <th>Min_Temp</th>\n",
       "      <th>Max_Temp</th>\n",
       "    </tr>\n",
       "  </thead>\n",
       "  <tbody>\n",
       "    <tr>\n",
       "      <th>0</th>\n",
       "      <td>14</td>\n",
       "      <td>21</td>\n",
       "    </tr>\n",
       "  </tbody>\n",
       "</table>\n",
       "</div>"
      ],
      "text/plain": [
       "   Min_Temp  Max_Temp\n",
       "0        14        21"
      ]
     },
     "execution_count": 86,
     "metadata": {},
     "output_type": "execute_result"
    }
   ],
   "source": [
    "# RaceDay Min - Max Temp:\n",
    "\n",
    "min_max_temp = io.StringIO(dayweather['min_temp'] + ' ' + dayweather['max_temp'])\n",
    "weatherInfo = pd.read_csv(min_max_temp, sep=\" \", header = None)\n",
    "weatherInfo.rename({0: 'Min_Temp', 1: 'Max_Temp'}, axis=1, inplace=True)\n",
    "\n",
    "weatherInfo.head()"
   ]
  },
  {
   "cell_type": "markdown",
   "id": "853c4d6f",
   "metadata": {},
   "source": [
    "### Cross Join RaceCard with RaceInfo & WeatherInfo:"
   ]
  },
  {
   "cell_type": "code",
   "execution_count": 87,
   "id": "6931781e",
   "metadata": {},
   "outputs": [
    {
     "name": "stdout",
     "output_type": "stream",
     "text": [
      "12182021-Sha_Tin-10\n"
     ]
    }
   ],
   "source": [
    "# Info on Specific Race:\n",
    "\n",
    "Race_Info = bn_raceInfo5.iloc[0]\n",
    "#print(Race_Info)\n",
    "\n",
    "Race_Title = (raceInfo['Date'].iloc[0] + '-'\n",
    "              + raceInfo['Course'].iloc[0] + '-'\n",
    "              + raceInfo['Meeting_Number'].iloc[0]).replace(r'/', '').replace(r' ', '_')\n",
    "\n",
    "print(Race_Title)"
   ]
  },
  {
   "cell_type": "code",
   "execution_count": 88,
   "id": "343bd356",
   "metadata": {},
   "outputs": [
    {
     "data": {
      "text/html": [
       "<div>\n",
       "<style scoped>\n",
       "    .dataframe tbody tr th:only-of-type {\n",
       "        vertical-align: middle;\n",
       "    }\n",
       "\n",
       "    .dataframe tbody tr th {\n",
       "        vertical-align: top;\n",
       "    }\n",
       "\n",
       "    .dataframe thead th {\n",
       "        text-align: right;\n",
       "    }\n",
       "</style>\n",
       "<table border=\"1\" class=\"dataframe\">\n",
       "  <thead>\n",
       "    <tr style=\"text-align: right;\">\n",
       "      <th></th>\n",
       "      <th>Horse</th>\n",
       "      <th>Weight</th>\n",
       "      <th>Jockey</th>\n",
       "      <th>Draw</th>\n",
       "      <th>Trainer</th>\n",
       "      <th>Rtg.</th>\n",
       "      <th>Weight_Declared</th>\n",
       "      <th>Meeting_Number</th>\n",
       "      <th>Race_Type</th>\n",
       "      <th>Course</th>\n",
       "      <th>Distance</th>\n",
       "      <th>Prize</th>\n",
       "      <th>Ranking</th>\n",
       "      <th>Class</th>\n",
       "      <th>Date</th>\n",
       "      <th>Surface</th>\n",
       "      <th>Min_Temp</th>\n",
       "      <th>Max_Temp</th>\n",
       "    </tr>\n",
       "  </thead>\n",
       "  <tbody>\n",
       "    <tr>\n",
       "      <th>0</th>\n",
       "      <td>LOOKING GREAT</td>\n",
       "      <td>133</td>\n",
       "      <td>K C Leung</td>\n",
       "      <td>13</td>\n",
       "      <td>F C Lor</td>\n",
       "      <td>80</td>\n",
       "      <td>1065</td>\n",
       "      <td>10</td>\n",
       "      <td>LUKFOOK JEWELLERY F-STYLE HEY COOL COLLECTION HANDICAP</td>\n",
       "      <td>Sha Tin</td>\n",
       "      <td>1600</td>\n",
       "      <td>1570000</td>\n",
       "      <td>80-60</td>\n",
       "      <td>Class 3</td>\n",
       "      <td>12/18/2021</td>\n",
       "      <td>TURF C+3 COURSE</td>\n",
       "      <td>14</td>\n",
       "      <td>21</td>\n",
       "    </tr>\n",
       "    <tr>\n",
       "      <th>1</th>\n",
       "      <td>CAPTAIN WIN</td>\n",
       "      <td>130</td>\n",
       "      <td>C L Chau</td>\n",
       "      <td>14</td>\n",
       "      <td>D J Hall</td>\n",
       "      <td>77</td>\n",
       "      <td>1229</td>\n",
       "      <td>10</td>\n",
       "      <td>LUKFOOK JEWELLERY F-STYLE HEY COOL COLLECTION HANDICAP</td>\n",
       "      <td>Sha Tin</td>\n",
       "      <td>1600</td>\n",
       "      <td>1570000</td>\n",
       "      <td>80-60</td>\n",
       "      <td>Class 3</td>\n",
       "      <td>12/18/2021</td>\n",
       "      <td>TURF C+3 COURSE</td>\n",
       "      <td>14</td>\n",
       "      <td>21</td>\n",
       "    </tr>\n",
       "    <tr>\n",
       "      <th>2</th>\n",
       "      <td>CRAIG'S STAR</td>\n",
       "      <td>126</td>\n",
       "      <td>H Bentley</td>\n",
       "      <td>6</td>\n",
       "      <td>K H Ting</td>\n",
       "      <td>73</td>\n",
       "      <td>1260</td>\n",
       "      <td>10</td>\n",
       "      <td>LUKFOOK JEWELLERY F-STYLE HEY COOL COLLECTION HANDICAP</td>\n",
       "      <td>Sha Tin</td>\n",
       "      <td>1600</td>\n",
       "      <td>1570000</td>\n",
       "      <td>80-60</td>\n",
       "      <td>Class 3</td>\n",
       "      <td>12/18/2021</td>\n",
       "      <td>TURF C+3 COURSE</td>\n",
       "      <td>14</td>\n",
       "      <td>21</td>\n",
       "    </tr>\n",
       "    <tr>\n",
       "      <th>3</th>\n",
       "      <td>SUPER TEN</td>\n",
       "      <td>126</td>\n",
       "      <td>A Badel</td>\n",
       "      <td>10</td>\n",
       "      <td>D J Whyte</td>\n",
       "      <td>73</td>\n",
       "      <td>1233</td>\n",
       "      <td>10</td>\n",
       "      <td>LUKFOOK JEWELLERY F-STYLE HEY COOL COLLECTION HANDICAP</td>\n",
       "      <td>Sha Tin</td>\n",
       "      <td>1600</td>\n",
       "      <td>1570000</td>\n",
       "      <td>80-60</td>\n",
       "      <td>Class 3</td>\n",
       "      <td>12/18/2021</td>\n",
       "      <td>TURF C+3 COURSE</td>\n",
       "      <td>14</td>\n",
       "      <td>21</td>\n",
       "    </tr>\n",
       "    <tr>\n",
       "      <th>4</th>\n",
       "      <td>INTREPID WINNER</td>\n",
       "      <td>125</td>\n",
       "      <td>A Hamelin</td>\n",
       "      <td>8</td>\n",
       "      <td>A T Millard</td>\n",
       "      <td>72</td>\n",
       "      <td>1054</td>\n",
       "      <td>10</td>\n",
       "      <td>LUKFOOK JEWELLERY F-STYLE HEY COOL COLLECTION HANDICAP</td>\n",
       "      <td>Sha Tin</td>\n",
       "      <td>1600</td>\n",
       "      <td>1570000</td>\n",
       "      <td>80-60</td>\n",
       "      <td>Class 3</td>\n",
       "      <td>12/18/2021</td>\n",
       "      <td>TURF C+3 COURSE</td>\n",
       "      <td>14</td>\n",
       "      <td>21</td>\n",
       "    </tr>\n",
       "  </tbody>\n",
       "</table>\n",
       "</div>"
      ],
      "text/plain": [
       "             Horse  Weight     Jockey  Draw      Trainer  Rtg.  \\\n",
       "0    LOOKING GREAT     133  K C Leung    13      F C Lor    80   \n",
       "1      CAPTAIN WIN     130   C L Chau    14     D J Hall    77   \n",
       "2     CRAIG'S STAR     126  H Bentley     6     K H Ting    73   \n",
       "3        SUPER TEN     126    A Badel    10    D J Whyte    73   \n",
       "4  INTREPID WINNER     125  A Hamelin     8  A T Millard    72   \n",
       "\n",
       "   Weight_Declared Meeting_Number  \\\n",
       "0             1065             10   \n",
       "1             1229             10   \n",
       "2             1260             10   \n",
       "3             1233             10   \n",
       "4             1054             10   \n",
       "\n",
       "                                                Race_Type   Course Distance  \\\n",
       "0  LUKFOOK JEWELLERY F-STYLE HEY COOL COLLECTION HANDICAP  Sha Tin     1600   \n",
       "1  LUKFOOK JEWELLERY F-STYLE HEY COOL COLLECTION HANDICAP  Sha Tin     1600   \n",
       "2  LUKFOOK JEWELLERY F-STYLE HEY COOL COLLECTION HANDICAP  Sha Tin     1600   \n",
       "3  LUKFOOK JEWELLERY F-STYLE HEY COOL COLLECTION HANDICAP  Sha Tin     1600   \n",
       "4  LUKFOOK JEWELLERY F-STYLE HEY COOL COLLECTION HANDICAP  Sha Tin     1600   \n",
       "\n",
       "     Prize Ranking    Class        Date          Surface  Min_Temp  Max_Temp  \n",
       "0  1570000   80-60  Class 3  12/18/2021  TURF C+3 COURSE        14        21  \n",
       "1  1570000   80-60  Class 3  12/18/2021  TURF C+3 COURSE        14        21  \n",
       "2  1570000   80-60  Class 3  12/18/2021  TURF C+3 COURSE        14        21  \n",
       "3  1570000   80-60  Class 3  12/18/2021  TURF C+3 COURSE        14        21  \n",
       "4  1570000   80-60  Class 3  12/18/2021  TURF C+3 COURSE        14        21  "
      ]
     },
     "execution_count": 88,
     "metadata": {},
     "output_type": "execute_result"
    }
   ],
   "source": [
    "raceCard['key'] = 0\n",
    "raceInfo['key'] = 0\n",
    "weatherInfo['key'] = 0\n",
    "\n",
    "raceCardInfo = raceCard.merge(raceInfo, on = 'key', how = 'outer')\n",
    "raceCardInfo = raceCardInfo.merge(weatherInfo, on = 'key', how = 'outer')\n",
    "raceCardInfo = raceCardInfo.drop('key', 1)\n",
    "\n",
    "#print(raceCardInfo)\n",
    "raceCardInfo.head()"
   ]
  },
  {
   "cell_type": "code",
   "execution_count": 89,
   "id": "17bfcb37",
   "metadata": {},
   "outputs": [],
   "source": [
    "# Save as CSV:\n",
    "\n",
    "raceCardInfo.to_csv('raceCardInfo_' + Race_Title + '.csv', index=False)"
   ]
  }
 ],
 "metadata": {
  "kernelspec": {
   "display_name": "Python 3",
   "language": "python",
   "name": "python3"
  },
  "language_info": {
   "codemirror_mode": {
    "name": "ipython",
    "version": 3
   },
   "file_extension": ".py",
   "mimetype": "text/x-python",
   "name": "python",
   "nbconvert_exporter": "python",
   "pygments_lexer": "ipython3",
   "version": "3.8.8"
  }
 },
 "nbformat": 4,
 "nbformat_minor": 5
}
