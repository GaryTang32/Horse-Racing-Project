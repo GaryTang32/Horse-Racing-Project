{
 "cells": [
  {
   "cell_type": "markdown",
   "metadata": {},
   "source": [
    "### Data Source from Web:"
   ]
  },
  {
   "cell_type": "code",
   "execution_count": 3,
   "metadata": {},
   "outputs": [],
   "source": [
    "import pandas as pd\n",
    "import numpy as np\n",
    "from requests_html import HTMLSession\n",
    "#from requests_html import AsyncHTMLSession\n",
    "import nest_asyncio\n",
    "from bs4 import BeautifulSoup\n",
    "import requests\n",
    "import io\n",
    "import re\n",
    "\n",
    "pd.options.display.max_colwidth = 1000000000\n",
    "\n",
    "url = 'https://bet.hkjc.com/racing/pages/odds_wp.aspx?lang=en'\n",
    "#url = 'https://bet.hkjc.com/racing/pages/odds_wp.aspx?lang=en&date=2021-12-18&venue=ST&raceno=10'\n",
    "\n",
    "nest_asyncio.apply()\n",
    "\n",
    "session = HTMLSession()\n",
    "#session = AsyncHTMLSession()"
   ]
  },
  {
   "cell_type": "code",
   "execution_count": 4,
   "metadata": {},
   "outputs": [
    {
     "ename": "IndexError",
     "evalue": "list index out of range",
     "output_type": "error",
     "traceback": [
      "\u001b[0;31m---------------------------------------------------------------------------\u001b[0m",
      "\u001b[0;31mIndexError\u001b[0m                                Traceback (most recent call last)",
      "\u001b[0;32m<ipython-input-4-9b6f846f5934>\u001b[0m in \u001b[0;36m<module>\u001b[0;34m\u001b[0m\n\u001b[1;32m     11\u001b[0m \u001b[0;31m#print(odds_soup)\u001b[0m\u001b[0;34m\u001b[0m\u001b[0;34m\u001b[0m\u001b[0;34m\u001b[0m\u001b[0m\n\u001b[1;32m     12\u001b[0m \u001b[0;34m\u001b[0m\u001b[0m\n\u001b[0;32m---> 13\u001b[0;31m \u001b[0mtarget\u001b[0m \u001b[0;34m=\u001b[0m \u001b[0modds_soup\u001b[0m\u001b[0;34m.\u001b[0m\u001b[0mfind_all\u001b[0m\u001b[0;34m(\u001b[0m\u001b[0;34m'script'\u001b[0m\u001b[0;34m)\u001b[0m\u001b[0;34m[\u001b[0m\u001b[0;36m53\u001b[0m\u001b[0;34m]\u001b[0m\u001b[0;34m.\u001b[0m\u001b[0mstring\u001b[0m\u001b[0;34m\u001b[0m\u001b[0;34m\u001b[0m\u001b[0m\n\u001b[0m\u001b[1;32m     14\u001b[0m \u001b[0mresult\u001b[0m \u001b[0;34m=\u001b[0m \u001b[0mre\u001b[0m\u001b[0;34m.\u001b[0m\u001b[0msearch\u001b[0m\u001b[0;34m(\u001b[0m\u001b[0;34m'var winOddsByRace = (.*).split'\u001b[0m\u001b[0;34m,\u001b[0m \u001b[0mtarget\u001b[0m\u001b[0;34m)\u001b[0m\u001b[0;34m\u001b[0m\u001b[0;34m\u001b[0m\u001b[0m\n\u001b[1;32m     15\u001b[0m \u001b[0mresult\u001b[0m \u001b[0;34m=\u001b[0m \u001b[0mresult\u001b[0m\u001b[0;34m.\u001b[0m\u001b[0mgroup\u001b[0m\u001b[0;34m(\u001b[0m\u001b[0;36m1\u001b[0m\u001b[0;34m)\u001b[0m\u001b[0;34m\u001b[0m\u001b[0;34m\u001b[0m\u001b[0m\n",
      "\u001b[0;31mIndexError\u001b[0m: list index out of range"
     ]
    }
   ],
   "source": [
    "#nest_asyncio.apply()\n",
    "\n",
    "#session = HTMLSession()\n",
    "\n",
    "r = session.get(url)\n",
    "\n",
    "html_str = r.text\n",
    "#print(html_str)\n",
    "\n",
    "odds_soup = BeautifulSoup(html_str, 'lxml')\n",
    "#print(odds_soup)\n",
    "\n",
    "target = odds_soup.find_all('script')[53].string\n",
    "result = re.search('var winOddsByRace = (.*).split', target)\n",
    "result = result.group(1)\n",
    "result = result.split('WIN;')[1].replace(\"'\", '').replace('=0', '')\n",
    "win_odds = result.split('#PLA;')[0]\n",
    "pla_ods = result.split('#PLA;')[1]\n",
    "\n",
    "#print(win_odds)\n",
    "#print(pla_ods)\n",
    "\n",
    "win_list = win_odds.split(\";\")\n",
    "pla_list = pla_ods.split(\";\")\n",
    "\n",
    "#print(odds_list)\n",
    "#print(pla_list)\n",
    "\n",
    "win_df = pd.DataFrame([x.split('=') for x in win_list], columns=['No.','Win_Odds','color']).drop('color', 1)\n",
    "pla_df = pd.DataFrame([x.split('=') for x in pla_list], columns=['No.','Place_Odds','color']).drop('color', 1)\n",
    "\n",
    "oddsInfo = win_df.merge(pla_df, on = 'No.')\n",
    "\n",
    "oddsInfo"
   ]
  },
  {
   "cell_type": "markdown",
   "metadata": {},
   "source": [
    "### Streaming:"
   ]
  },
  {
   "cell_type": "code",
   "execution_count": null,
   "metadata": {},
   "outputs": [],
   "source": [
    "# Manually Stop the Streaming Context without stopping the SparkContext:\n",
    "ssc.stop(stopSparkContext=False)"
   ]
  },
  {
   "cell_type": "raw",
   "metadata": {},
   "source": [
    "from pyspark.streaming import StreamingContext\n",
    "\n",
    "# Create a StreamingContext with batch interval of 5 seconds\n",
    "ssc = StreamingContext(sc, 5)\n",
    "\n",
    "# Create a DStream that will connect to localhost at port 9999\n",
    "# Start Netcat server: nc -lk 9999 \n",
    "lines = ssc.socketTextStream('localhost', 9999)\n",
    "\n",
    "print(\"Finished\")"
   ]
  }
 ],
 "metadata": {
  "kernelspec": {
   "display_name": "Python 3",
   "language": "python",
   "name": "python3"
  },
  "language_info": {
   "codemirror_mode": {
    "name": "ipython",
    "version": 3
   },
   "file_extension": ".py",
   "mimetype": "text/x-python",
   "name": "python",
   "nbconvert_exporter": "python",
   "pygments_lexer": "ipython3",
   "version": "3.8.3"
  }
 },
 "nbformat": 4,
 "nbformat_minor": 4
}
